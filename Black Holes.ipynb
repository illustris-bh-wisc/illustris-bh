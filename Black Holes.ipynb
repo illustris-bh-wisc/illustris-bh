{
 "metadata": {
  "name": "Black Holes"
 },
 "nbformat": 3,
 "nbformat_minor": 0,
 "worksheets": [
  {
   "cells": [
    {
     "cell_type": "code",
     "collapsed": false,
     "input": [
      "import numpy as np\n",
      "import matplotlib.pyplot as plt\n",
      "import os\n",
      "import sys\n",
      "import readsubfHDF5"
     ],
     "language": "python",
     "metadata": {},
     "outputs": [],
     "prompt_number": 1
    },
    {
     "cell_type": "code",
     "collapsed": false,
     "input": [
      "# Read catalog\n",
      "basedir = \"/Users/andreavang/Documents/UW-Courses/Second_Year/Fall_2014/ASTRO_735/Illustris-3/\"\n",
      "snapid = 135\n",
      "catalog = readsubfHDF5.subfind_catalog(basedir,snapid)"
     ],
     "language": "python",
     "metadata": {},
     "outputs": [],
     "prompt_number": 2
    },
    {
     "cell_type": "code",
     "collapsed": false,
     "input": [
      "# Set BH Masses and Accretion Rate\n",
      "bm = catalog.GroupBHMass\n",
      "#bm *= 1.e7\n",
      "bmdot=catalog.GroupBHMdot\n",
      "#bmdot *= 1.e\n",
      "print len(bm)\n",
      "print len(bmdot)"
     ],
     "language": "python",
     "metadata": {},
     "outputs": [
      {
       "output_type": "stream",
       "stream": "stdout",
       "text": [
        "131727\n",
        "131727\n"
       ]
      }
     ],
     "prompt_number": 4
    },
    {
     "cell_type": "code",
     "collapsed": false,
     "input": [
      "# Plot m vs mdot with metallicity as color\n",
      "\n",
      "bm = catalog.GroupBHMass\n",
      "#bm *= 1.e7\n",
      "bmdot=catalog.GroupBHMdot\n",
      "#bmdot *= 1.e7\n",
      "\n",
      "fig = plt.figure(figsize = (10,10))\n",
      "\n",
      "sc = plt.scatter (np.log10(bm), np.log10(bmdot), c = catalog.GroupStarMetallicity, s = 8, cmap = 'jet')\n",
      "plt.colorbar(sc)\n",
      "plt.show()"
     ],
     "language": "python",
     "metadata": {},
     "outputs": [
      {
       "output_type": "stream",
       "stream": "stderr",
       "text": [
        "-c:10: RuntimeWarning: divide by zero encountered in log10\n"
       ]
      }
     ],
     "prompt_number": 27
    },
    {
     "cell_type": "code",
     "collapsed": false,
     "input": [
      "# Plot m vs mdot colored by sfr\n",
      "\n",
      "bm = catalog.GroupBHMass\n",
      "#bm *= 1.e7\n",
      "bmdot = catalog.GroupBHMdot\n",
      "#bmdot *= 1.e7\n",
      "\n",
      "sfr = catalog.GroupSFR\n",
      "fig = plt.figure(figsize = (10,10))\n",
      "#sc = plt.scatter (np.log10(bm), np.log10(bmdot), s = 8, alpha = 0.5)\n",
      "\n",
      "sc = plt.scatter (np.log10(bm), np.log10(bmdot), c = np.log10(sfr), cmap = 'jet', s = 8, alpha = 0.5)\n",
      "plt.colorbar(sc)\n",
      "plt.show()"
     ],
     "language": "python",
     "metadata": {},
     "outputs": [
      {
       "output_type": "stream",
       "stream": "stderr",
       "text": [
        "-c:10: RuntimeWarning: divide by zero encountered in log10\n"
       ]
      }
     ],
     "prompt_number": 8
    },
    {
     "cell_type": "code",
     "collapsed": false,
     "input": [
      "bm = catalog.GroupBHMass\n",
      "#bm *= 1.e7\n",
      "bmdot = catalog.GroupBHMdot\n",
      "#bmdot *= 1.e7\n",
      "\n",
      "print 'Number of BHs:', len(bm)\n",
      "\n",
      "plt.yscale('log')\n",
      "plt.hist(bm, color = 'g')\n",
      "plt.show()"
     ],
     "language": "python",
     "metadata": {},
     "outputs": [
      {
       "output_type": "stream",
       "stream": "stdout",
       "text": [
        "Number of BHs: 131727\n"
       ]
      }
     ],
     "prompt_number": 8
    },
    {
     "cell_type": "code",
     "collapsed": false,
     "input": [],
     "language": "python",
     "metadata": {},
     "outputs": []
    }
   ],
   "metadata": {}
  }
 ]
}